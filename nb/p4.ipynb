{
 "cells": [
  {
   "cell_type": "code",
   "execution_count": 1,
   "id": "8e1561d9-8ebb-47ed-b3ef-c227220613e6",
   "metadata": {},
   "outputs": [
    {
     "name": "stderr",
     "output_type": "stream",
     "text": [
      "Using Spark's default log4j profile: org/apache/spark/log4j-defaults.properties\n",
      "Setting default log level to \"WARN\".\n",
      "To adjust logging level use sc.setLogLevel(newLevel). For SparkR, use setLogLevel(newLevel).\n",
      "23/03/31 20:10:06 WARN NativeCodeLoader: Unable to load native-hadoop library for your platform... using builtin-java classes where applicable\n"
     ]
    }
   ],
   "source": [
    "from pyspark.sql import SparkSession\n",
    "spark = (SparkSession.builder.appName(\"cs544\")\n",
    "         .master(\"spark://main:7077\")\n",
    "         .config(\"spark.executor.memory\", \"512M\")\n",
    "         .config(\"spark.sql.warehouse.dir\", \"hdfs://main:9000/user/hive/warehouse\")\n",
    "         .enableHiveSupport()\n",
    "         .getOrCreate())\n",
    "\n",
    "import os\n",
    "import pandas as pd\n",
    "from matplotlib import pyplot as plt\n",
    "from pyspark.sql.functions import col, expr, row_number\n",
    "from pyspark.sql.window import Window\n",
    "import time\n",
    "import requests\n",
    "\n",
    "pd.set_option('display.max_columns', None)"
   ]
  },
  {
   "cell_type": "markdown",
   "id": "d4100f37-a5e6-4a1e-b39c-e4b69a8b6aee",
   "metadata": {},
   "source": [
    "## Downloading the Data"
   ]
  },
  {
   "cell_type": "code",
   "execution_count": 2,
   "id": "e8089af0-6504-4186-85ce-28ae2b7a5a62",
   "metadata": {},
   "outputs": [
    {
     "name": "stdout",
     "output_type": "stream",
     "text": [
      "--2023-03-31 20:10:20--  https://pages.cs.wisc.edu/~harter/cs639/data/hdma-wi-2021.zip\n",
      "Resolving pages.cs.wisc.edu (pages.cs.wisc.edu)... 128.105.7.9\n",
      "Connecting to pages.cs.wisc.edu (pages.cs.wisc.edu)|128.105.7.9|:443... connected.\n",
      "HTTP request sent, awaiting response... 200 OK\n",
      "Length: 21494278 (20M) [application/zip]\n",
      "Saving to: ‘hdma-wi-2021.zip’\n",
      "\n",
      "hdma-wi-2021.zip    100%[===================>]  20.50M  52.5MB/s    in 0.4s    \n",
      "\n",
      "2023-03-31 20:10:20 (52.5 MB/s) - ‘hdma-wi-2021.zip’ saved [21494278/21494278]\n",
      "\n",
      "--2023-03-31 20:10:20--  https://pages.cs.wisc.edu/~harter/cs639/data/arid2017_to_lei_xref_csv.zip\n",
      "Resolving pages.cs.wisc.edu (pages.cs.wisc.edu)... 128.105.7.9\n",
      "Connecting to pages.cs.wisc.edu (pages.cs.wisc.edu)|128.105.7.9|:443... connected.\n",
      "HTTP request sent, awaiting response... 200 OK\n",
      "Length: 144804 (141K) [application/zip]\n",
      "Saving to: ‘arid2017_to_lei_xref_csv.zip’\n",
      "\n",
      "arid2017_to_lei_xre 100%[===================>] 141.41K  --.-KB/s    in 0.07s   \n",
      "\n",
      "2023-03-31 20:10:21 (1.87 MB/s) - ‘arid2017_to_lei_xref_csv.zip’ saved [144804/144804]\n",
      "\n",
      "--2023-03-31 20:10:21--  https://pages.cs.wisc.edu/~harter/cs639/data/code_sheets.zip\n",
      "Resolving pages.cs.wisc.edu (pages.cs.wisc.edu)... 128.105.7.9\n",
      "Connecting to pages.cs.wisc.edu (pages.cs.wisc.edu)|128.105.7.9|:443... connected.\n",
      "HTTP request sent, awaiting response... 200 OK\n",
      "Length: 798030 (779K) [application/zip]\n",
      "Saving to: ‘code_sheets.zip’\n",
      "\n",
      "code_sheets.zip     100%[===================>] 779.33K  --.-KB/s    in 0.1s    \n",
      "\n",
      "2023-03-31 20:10:21 (5.81 MB/s) - ‘code_sheets.zip’ saved [798030/798030]\n",
      "\n",
      "Archive:  hdma-wi-2021.zip\n",
      "  inflating: hdma-wi-2021.csv        \n",
      "Archive:  arid2017_to_lei_xref_csv.zip\n",
      "  inflating: arid2017_to_lei_xref_csv.csv  \n",
      "Archive:  code_sheets.zip\n",
      "  inflating: action_taken.csv        \n",
      "  inflating: agency.csv              \n",
      "  inflating: counties.csv            \n",
      "  inflating: denial_reason.csv       \n",
      "  inflating: edit_status.csv         \n",
      "  inflating: ethnicity.csv           \n",
      "  inflating: hoepa.csv               \n",
      "  inflating: lien_status.csv         \n",
      "  inflating: loan_purpose.csv        \n",
      "  inflating: loan_type.csv           \n",
      "  inflating: msamd.csv               \n",
      "  inflating: owner_occupancy.csv     \n",
      "  inflating: preapproval.csv         \n",
      "  inflating: property_type.csv       \n",
      "  inflating: purchaser_type.csv      \n",
      "  inflating: race.csv                \n",
      "  inflating: sex.csv                 \n",
      "  inflating: states.csv              \n",
      "  inflating: tracts.csv              \n"
     ]
    }
   ],
   "source": [
    "!wget https://pages.cs.wisc.edu/~harter/cs639/data/hdma-wi-2021.zip\n",
    "!wget https://pages.cs.wisc.edu/~harter/cs639/data/arid2017_to_lei_xref_csv.zip\n",
    "!wget https://pages.cs.wisc.edu/~harter/cs639/data/code_sheets.zip\n",
    "!unzip hdma-wi-2021.zip \n",
    "!unzip arid2017_to_lei_xref_csv.zip\n",
    "!unzip code_sheets.zip\n",
    "!rm hdma-wi-2021.zip \n",
    "!rm arid2017_to_lei_xref_csv.zip\n",
    "!rm code_sheets.zip"
   ]
  },
  {
   "cell_type": "markdown",
   "id": "830a6add-0b64-41fc-90c5-7d67b6a54cd1",
   "metadata": {},
   "source": [
    "## Uploading Data to HDFS"
   ]
  },
  {
   "cell_type": "code",
   "execution_count": 3,
   "id": "f34d91a7-368e-458a-9636-00c4464f27b4",
   "metadata": {},
   "outputs": [
    {
     "name": "stdout",
     "output_type": "stream",
     "text": [
      "328      984      hdfs://main:9000/action_taken.csv\n",
      "317      951      hdfs://main:9000/agency.csv\n",
      "521.0 K  1.5 M    hdfs://main:9000/arid2017_to_lei_xref_csv.csv\n",
      "311.6 K  934.8 K  hdfs://main:9000/counties.csv\n",
      "237      711      hdfs://main:9000/denial_reason.csv\n",
      "109      327      hdfs://main:9000/edit_status.csv\n",
      "180      540      hdfs://main:9000/ethnicity.csv\n",
      "166.8 M  500.5 M  hdfs://main:9000/hdma-wi-2021.csv\n",
      "41       123      hdfs://main:9000/hoepa.csv\n",
      "114      342      hdfs://main:9000/lien_status.csv\n",
      "65       195      hdfs://main:9000/loan_purpose.csv\n",
      "79       237      hdfs://main:9000/loan_type.csv\n",
      "129.6 K  388.7 K  hdfs://main:9000/msamd.csv\n",
      "122      366      hdfs://main:9000/owner_occupancy.csv\n",
      "92       276      hdfs://main:9000/preapproval.csv\n",
      "127      381      hdfs://main:9000/property_type.csv\n",
      "387      1.1 K    hdfs://main:9000/purchaser_type.csv\n",
      "252      756      hdfs://main:9000/race.csv\n",
      "144      432      hdfs://main:9000/sex.csv\n",
      "955      2.8 K    hdfs://main:9000/states.csv\n",
      "2.6 M    7.8 M    hdfs://main:9000/tracts.csv\n"
     ]
    }
   ],
   "source": [
    "for file in os.listdir():\n",
    "    if file.endswith(\".csv\"):\n",
    "        !hdfs dfs -cp {file} hdfs://main:9000/{file}\n",
    "        \n",
    "!hdfs dfs -du -h hdfs://main:9000/"
   ]
  },
  {
   "cell_type": "code",
   "execution_count": 4,
   "id": "878884e0-f305-45b4-a99e-4a248d93ad05",
   "metadata": {},
   "outputs": [
    {
     "name": "stderr",
     "output_type": "stream",
     "text": [
      "23/03/31 20:12:08 WARN HiveConf: HiveConf of name hive.stats.jdbc.timeout does not exist\n",
      "23/03/31 20:12:08 WARN HiveConf: HiveConf of name hive.stats.retries.wait does not exist\n",
      "23/03/31 20:12:13 WARN ObjectStore: Version information not found in metastore. hive.metastore.schema.verification is not enabled so recording the schema version 2.3.0\n",
      "23/03/31 20:12:13 WARN ObjectStore: setMetaStoreSchemaVersion called but recording version is disabled: version = 2.3.0, comment = Set by MetaStore UNKNOWN@172.19.0.3\n",
      "23/03/31 20:12:14 WARN ObjectStore: Failed to get database global_temp, returning NoSuchObjectException\n",
      "23/03/31 20:12:14 WARN HadoopFSUtils: The directory hdfs://main:9000/user/hive/warehouse/banks was not found. Was it deleted very recently?\n",
      "23/03/31 20:12:15 WARN FileUtils: File does not exist: hdfs://main:9000/user/hive/warehouse/banks; Force to delete it.\n",
      "23/03/31 20:12:15 ERROR FileUtils: Failed to delete hdfs://main:9000/user/hive/warehouse/banks\n",
      "23/03/31 20:12:19 WARN SessionState: METASTORE_FILTER_HOOK will be ignored, since hive.security.authorization.manager is set to instance of HiveAuthorizerFactory.\n",
      "23/03/31 20:12:19 WARN HiveConf: HiveConf of name hive.internal.ss.authz.settings.applied.marker does not exist\n",
      "23/03/31 20:12:19 WARN HiveConf: HiveConf of name hive.stats.jdbc.timeout does not exist\n",
      "23/03/31 20:12:19 WARN HiveConf: HiveConf of name hive.stats.retries.wait does not exist\n",
      "23/03/31 20:12:29 WARN HadoopFSUtils: The directory hdfs://main:9000/user/hive/warehouse/loans was not found. Was it deleted very recently?\n",
      "23/03/31 20:12:30 WARN FileUtils: File does not exist: hdfs://main:9000/user/hive/warehouse/loans; Force to delete it.\n",
      "23/03/31 20:12:30 ERROR FileUtils: Failed to delete hdfs://main:9000/user/hive/warehouse/loans\n",
      "23/03/31 20:12:30 WARN package: Truncated the string representation of a plan since it was too large. This behavior can be adjusted by setting 'spark.sql.debug.maxToStringFields'.\n",
      "                                                                                \r"
     ]
    }
   ],
   "source": [
    "code_sheets = [\"ethnicity\", \"race\", \"sex\", \"states\", \"counties\", \"tracts\", \n",
    "               \"action_taken\", \"denial_reason\", \"loan_type\", \"loan_purpose\", \n",
    "                 \"preapproval\", \"property_type\"]\n",
    "\n",
    "for filename in code_sheets:\n",
    "    (spark.read.format(\"csv\")\n",
    "        .option(\"header\", True)\n",
    "        .option(\"inferSchema\", True)\n",
    "        .load(f\"hdfs://main:9000/{filename}.csv\").createOrReplaceTempView(f\"{filename}\"))\n",
    "    \n",
    "## Banks\n",
    "(spark.read.format(\"csv\")\n",
    "        .option(\"header\", True)\n",
    "        .option(\"inferSchema\", True)\n",
    "        .load(\"hdfs://main:9000/arid2017_to_lei_xref_csv.csv\")\n",
    "        .write.saveAsTable(\"banks\", mode=\"overwrite\"))\n",
    " \n",
    "(spark.read.format(\"csv\")\n",
    "        .option(\"header\", True)\n",
    "        .option(\"inferSchema\", True)\n",
    "        .load(\"hdfs://main:9000/hdma-wi-2021.csv\")\n",
    "        .write.bucketBy(8, \"county_code\").saveAsTable(\"loans\", mode=\"overwrite\"))"
   ]
  },
  {
   "cell_type": "markdown",
   "id": "b7a6aeab-b27a-4f23-91b5-d72ffe365715",
   "metadata": {},
   "source": [
    "## Q1: what tables are in our warehouse?"
   ]
  },
  {
   "cell_type": "code",
   "execution_count": 5,
   "id": "d0dbf24e-1f3c-48ce-9e36-7fe7718ec34c",
   "metadata": {},
   "outputs": [
    {
     "name": "stdout",
     "output_type": "stream",
     "text": [
      "+---------+-------------+-----------+\n",
      "|namespace|    tableName|isTemporary|\n",
      "+---------+-------------+-----------+\n",
      "|  default|        banks|      false|\n",
      "|  default|        loans|      false|\n",
      "|         | action_taken|       true|\n",
      "|         |     counties|       true|\n",
      "|         |denial_reason|       true|\n",
      "|         |    ethnicity|       true|\n",
      "|         | loan_purpose|       true|\n",
      "|         |    loan_type|       true|\n",
      "|         |  preapproval|       true|\n",
      "|         |property_type|       true|\n",
      "|         |         race|       true|\n",
      "|         |          sex|       true|\n",
      "|         |       states|       true|\n",
      "|         |       tracts|       true|\n",
      "+---------+-------------+-----------+\n",
      "\n"
     ]
    }
   ],
   "source": [
    "spark.sql(\"SHOW TABLES\").show()"
   ]
  },
  {
   "cell_type": "markdown",
   "id": "b239c2f1-ad53-422d-9bc0-a96bb8e65408",
   "metadata": {},
   "source": [
    "## Q2: how many banks contain the word \"first\" in their name? Which ones contain \"second\"?"
   ]
  },
  {
   "cell_type": "code",
   "execution_count": 6,
   "id": "da8f2820-8c4b-457c-9b99-8f7429d9c0ad",
   "metadata": {},
   "outputs": [
    {
     "name": "stderr",
     "output_type": "stream",
     "text": [
      "                                                                                \r"
     ]
    },
    {
     "data": {
      "text/html": [
       "<div>\n",
       "<style scoped>\n",
       "    .dataframe tbody tr th:only-of-type {\n",
       "        vertical-align: middle;\n",
       "    }\n",
       "\n",
       "    .dataframe tbody tr th {\n",
       "        vertical-align: top;\n",
       "    }\n",
       "\n",
       "    .dataframe thead th {\n",
       "        text-align: right;\n",
       "    }\n",
       "</style>\n",
       "<table border=\"1\" class=\"dataframe\">\n",
       "  <thead>\n",
       "    <tr style=\"text-align: right;\">\n",
       "      <th></th>\n",
       "      <th>Number of Banks Containing First</th>\n",
       "    </tr>\n",
       "  </thead>\n",
       "  <tbody>\n",
       "    <tr>\n",
       "      <th>0</th>\n",
       "      <td>525</td>\n",
       "    </tr>\n",
       "  </tbody>\n",
       "</table>\n",
       "</div>"
      ],
      "text/plain": [
       "   Number of Banks Containing First\n",
       "0                               525"
      ]
     },
     "execution_count": 6,
     "metadata": {},
     "output_type": "execute_result"
    }
   ],
   "source": [
    "spark.sql(\"\"\"\n",
    "SELECT COUNT(*) as `Number of Banks Containing First`\n",
    "FROM banks\n",
    "WHERE LOWER(respondent_name) LIKE \"%first%\"\n",
    "\"\"\").toPandas()"
   ]
  },
  {
   "cell_type": "code",
   "execution_count": 7,
   "id": "39d19230-0497-486e-9f56-3ab8a84ef7c9",
   "metadata": {},
   "outputs": [
    {
     "name": "stderr",
     "output_type": "stream",
     "text": [
      "                                                                                \r"
     ]
    },
    {
     "data": {
      "text/html": [
       "<div>\n",
       "<style scoped>\n",
       "    .dataframe tbody tr th:only-of-type {\n",
       "        vertical-align: middle;\n",
       "    }\n",
       "\n",
       "    .dataframe tbody tr th {\n",
       "        vertical-align: top;\n",
       "    }\n",
       "\n",
       "    .dataframe thead th {\n",
       "        text-align: right;\n",
       "    }\n",
       "</style>\n",
       "<table border=\"1\" class=\"dataframe\">\n",
       "  <thead>\n",
       "    <tr style=\"text-align: right;\">\n",
       "      <th></th>\n",
       "      <th>respondent_name</th>\n",
       "      <th>arid_2017</th>\n",
       "      <th>lei_2018</th>\n",
       "      <th>lei_2019</th>\n",
       "      <th>lei_2020</th>\n",
       "    </tr>\n",
       "  </thead>\n",
       "  <tbody>\n",
       "    <tr>\n",
       "      <th>0</th>\n",
       "      <td>Old Second National Bank</td>\n",
       "      <td>14596</td>\n",
       "      <td>B94HV8SXGDD3J5XESU08</td>\n",
       "      <td>B94HV8SXGDD3J5XESU08</td>\n",
       "      <td>B94HV8SXGDD3J5XESU08</td>\n",
       "    </tr>\n",
       "  </tbody>\n",
       "</table>\n",
       "</div>"
      ],
      "text/plain": [
       "            respondent_name arid_2017              lei_2018  \\\n",
       "0  Old Second National Bank     14596  B94HV8SXGDD3J5XESU08   \n",
       "\n",
       "               lei_2019              lei_2020  \n",
       "0  B94HV8SXGDD3J5XESU08  B94HV8SXGDD3J5XESU08  "
      ]
     },
     "execution_count": 7,
     "metadata": {},
     "output_type": "execute_result"
    }
   ],
   "source": [
    "spark.sql(\"\"\"\n",
    "SELECT *\n",
    "FROM banks\n",
    "WHERE LOWER(respondent_name) LIKE \"%second%\"\n",
    "\"\"\").toPandas()"
   ]
  },
  {
   "cell_type": "markdown",
   "id": "9d35360b-4072-47b7-a7d2-028f9e894dbb",
   "metadata": {},
   "source": [
    "## Q3: how many loan applications has your \"favorite\" bank received in the dataset?"
   ]
  },
  {
   "cell_type": "code",
   "execution_count": 8,
   "id": "a8db38e2-5aba-4c09-9702-b026d9b48e3e",
   "metadata": {},
   "outputs": [
    {
     "name": "stderr",
     "output_type": "stream",
     "text": [
      "                                                                                \r"
     ]
    },
    {
     "data": {
      "text/html": [
       "<div>\n",
       "<style scoped>\n",
       "    .dataframe tbody tr th:only-of-type {\n",
       "        vertical-align: middle;\n",
       "    }\n",
       "\n",
       "    .dataframe tbody tr th {\n",
       "        vertical-align: top;\n",
       "    }\n",
       "\n",
       "    .dataframe thead th {\n",
       "        text-align: right;\n",
       "    }\n",
       "</style>\n",
       "<table border=\"1\" class=\"dataframe\">\n",
       "  <thead>\n",
       "    <tr style=\"text-align: right;\">\n",
       "      <th></th>\n",
       "      <th>respondent_name</th>\n",
       "      <th>arid_2017</th>\n",
       "      <th>lei_2018</th>\n",
       "      <th>lei_2019</th>\n",
       "      <th>lei_2020</th>\n",
       "    </tr>\n",
       "  </thead>\n",
       "  <tbody>\n",
       "    <tr>\n",
       "      <th>0</th>\n",
       "      <td>JPMorgan Chase Bank, National Association</td>\n",
       "      <td>9852218</td>\n",
       "      <td>7H6GLXDRUGQFU57RNE97</td>\n",
       "      <td>7H6GLXDRUGQFU57RNE97</td>\n",
       "      <td>7H6GLXDRUGQFU57RNE97</td>\n",
       "    </tr>\n",
       "  </tbody>\n",
       "</table>\n",
       "</div>"
      ],
      "text/plain": [
       "                             respondent_name arid_2017              lei_2018  \\\n",
       "0  JPMorgan Chase Bank, National Association   9852218  7H6GLXDRUGQFU57RNE97   \n",
       "\n",
       "               lei_2019              lei_2020  \n",
       "0  7H6GLXDRUGQFU57RNE97  7H6GLXDRUGQFU57RNE97  "
      ]
     },
     "execution_count": 8,
     "metadata": {},
     "output_type": "execute_result"
    }
   ],
   "source": [
    "### CHOICE OF FAVOURITE BANK\n",
    "spark.sql(\"\"\"\n",
    "SELECT * \n",
    "from banks\n",
    "WHERE LOWER(respondent_name) LIKE '%chase%'\n",
    "\"\"\").toPandas()"
   ]
  },
  {
   "cell_type": "code",
   "execution_count": 9,
   "id": "6296fc47-ea45-4860-8f56-8d51d0993e34",
   "metadata": {},
   "outputs": [
    {
     "name": "stderr",
     "output_type": "stream",
     "text": [
      "                                                                                \r"
     ]
    },
    {
     "data": {
      "text/html": [
       "<div>\n",
       "<style scoped>\n",
       "    .dataframe tbody tr th:only-of-type {\n",
       "        vertical-align: middle;\n",
       "    }\n",
       "\n",
       "    .dataframe tbody tr th {\n",
       "        vertical-align: top;\n",
       "    }\n",
       "\n",
       "    .dataframe thead th {\n",
       "        text-align: right;\n",
       "    }\n",
       "</style>\n",
       "<table border=\"1\" class=\"dataframe\">\n",
       "  <thead>\n",
       "    <tr style=\"text-align: right;\">\n",
       "      <th></th>\n",
       "      <th>Number of Chase Loan Applications</th>\n",
       "    </tr>\n",
       "  </thead>\n",
       "  <tbody>\n",
       "    <tr>\n",
       "      <th>0</th>\n",
       "      <td>8178</td>\n",
       "    </tr>\n",
       "  </tbody>\n",
       "</table>\n",
       "</div>"
      ],
      "text/plain": [
       "   Number of Chase Loan Applications\n",
       "0                               8178"
      ]
     },
     "execution_count": 9,
     "metadata": {},
     "output_type": "execute_result"
    }
   ],
   "source": [
    "results = spark.sql(\"\"\"\n",
    "SELECT COUNT(*) as `Number of Chase Loan Applications`\n",
    "from loans\n",
    "INNER JOIN banks on loans.lei = banks.lei_2020\n",
    "WHERE respondent_name = \"JPMorgan Chase Bank, National Association\"\n",
    "\"\"\")\n",
    "\n",
    "results.toPandas()"
   ]
  },
  {
   "cell_type": "markdown",
   "id": "dd405a80-5a90-4f18-8af9-06330ca56d4a",
   "metadata": {},
   "source": [
    "## Q4: what does results.explain(\"formatted\") tell us about Spark's query plan for Q3?"
   ]
  },
  {
   "cell_type": "code",
   "execution_count": 10,
   "id": "c809b6c4-d339-49cc-8e6d-3ec3d249d5c6",
   "metadata": {},
   "outputs": [
    {
     "name": "stdout",
     "output_type": "stream",
     "text": [
      "== Physical Plan ==\n",
      "AdaptiveSparkPlan (25)\n",
      "+- == Final Plan ==\n",
      "   * HashAggregate (15)\n",
      "   +- ShuffleQueryStage (14)\n",
      "      +- Exchange (13)\n",
      "         +- * HashAggregate (12)\n",
      "            +- * Project (11)\n",
      "               +- * BroadcastHashJoin Inner BuildRight (10)\n",
      "                  :- * Filter (3)\n",
      "                  :  +- * ColumnarToRow (2)\n",
      "                  :     +- Scan parquet default.loans (1)\n",
      "                  +- BroadcastQueryStage (9)\n",
      "                     +- BroadcastExchange (8)\n",
      "                        +- * Project (7)\n",
      "                           +- * Filter (6)\n",
      "                              +- * ColumnarToRow (5)\n",
      "                                 +- Scan parquet default.banks (4)\n",
      "+- == Initial Plan ==\n",
      "   HashAggregate (24)\n",
      "   +- Exchange (23)\n",
      "      +- HashAggregate (22)\n",
      "         +- Project (21)\n",
      "            +- BroadcastHashJoin Inner BuildRight (20)\n",
      "               :- Filter (16)\n",
      "               :  +- Scan parquet default.loans (1)\n",
      "               +- BroadcastExchange (19)\n",
      "                  +- Project (18)\n",
      "                     +- Filter (17)\n",
      "                        +- Scan parquet default.banks (4)\n",
      "\n",
      "\n",
      "(1) Scan parquet default.loans\n",
      "Output [1]: [lei#970]\n",
      "Batched: true\n",
      "Location: InMemoryFileIndex [hdfs://main:9000/user/hive/warehouse/loans]\n",
      "PushedFilters: [IsNotNull(lei)]\n",
      "ReadSchema: struct<lei:string>\n",
      "\n",
      "(2) ColumnarToRow [codegen id : 2]\n",
      "Input [1]: [lei#970]\n",
      "\n",
      "(3) Filter [codegen id : 2]\n",
      "Input [1]: [lei#970]\n",
      "Condition : isnotnull(lei#970)\n",
      "\n",
      "(4) Scan parquet default.banks\n",
      "Output [2]: [respondent_name#949, lei_2020#953]\n",
      "Batched: true\n",
      "Location: InMemoryFileIndex [hdfs://main:9000/user/hive/warehouse/banks]\n",
      "PushedFilters: [IsNotNull(respondent_name), EqualTo(respondent_name,JPMorgan Chase Bank, National Association), IsNotNull(lei_2020)]\n",
      "ReadSchema: struct<respondent_name:string,lei_2020:string>\n",
      "\n",
      "(5) ColumnarToRow [codegen id : 1]\n",
      "Input [2]: [respondent_name#949, lei_2020#953]\n",
      "\n",
      "(6) Filter [codegen id : 1]\n",
      "Input [2]: [respondent_name#949, lei_2020#953]\n",
      "Condition : ((isnotnull(respondent_name#949) AND (respondent_name#949 = JPMorgan Chase Bank, National Association)) AND isnotnull(lei_2020#953))\n",
      "\n",
      "(7) Project [codegen id : 1]\n",
      "Output [1]: [lei_2020#953]\n",
      "Input [2]: [respondent_name#949, lei_2020#953]\n",
      "\n",
      "(8) BroadcastExchange\n",
      "Input [1]: [lei_2020#953]\n",
      "Arguments: HashedRelationBroadcastMode(List(input[0, string, true]),false), [plan_id=477]\n",
      "\n",
      "(9) BroadcastQueryStage\n",
      "Output [1]: [lei_2020#953]\n",
      "Arguments: 0\n",
      "\n",
      "(10) BroadcastHashJoin [codegen id : 2]\n",
      "Left keys [1]: [lei#970]\n",
      "Right keys [1]: [lei_2020#953]\n",
      "Join condition: None\n",
      "\n",
      "(11) Project [codegen id : 2]\n",
      "Output: []\n",
      "Input [2]: [lei#970, lei_2020#953]\n",
      "\n",
      "(12) HashAggregate [codegen id : 2]\n",
      "Input: []\n",
      "Keys: []\n",
      "Functions [1]: [partial_count(1)]\n",
      "Aggregate Attributes [1]: [count#1069L]\n",
      "Results [1]: [count#1070L]\n",
      "\n",
      "(13) Exchange\n",
      "Input [1]: [count#1070L]\n",
      "Arguments: SinglePartition, ENSURE_REQUIREMENTS, [plan_id=535]\n",
      "\n",
      "(14) ShuffleQueryStage\n",
      "Output [1]: [count#1070L]\n",
      "Arguments: 1\n",
      "\n",
      "(15) HashAggregate [codegen id : 3]\n",
      "Input [1]: [count#1070L]\n",
      "Keys: []\n",
      "Functions [1]: [count(1)]\n",
      "Aggregate Attributes [1]: [count(1)#968L]\n",
      "Results [1]: [count(1)#968L AS Number of Chase Loan Applications#967L]\n",
      "\n",
      "(16) Filter\n",
      "Input [1]: [lei#970]\n",
      "Condition : isnotnull(lei#970)\n",
      "\n",
      "(17) Filter\n",
      "Input [2]: [respondent_name#949, lei_2020#953]\n",
      "Condition : ((isnotnull(respondent_name#949) AND (respondent_name#949 = JPMorgan Chase Bank, National Association)) AND isnotnull(lei_2020#953))\n",
      "\n",
      "(18) Project\n",
      "Output [1]: [lei_2020#953]\n",
      "Input [2]: [respondent_name#949, lei_2020#953]\n",
      "\n",
      "(19) BroadcastExchange\n",
      "Input [1]: [lei_2020#953]\n",
      "Arguments: HashedRelationBroadcastMode(List(input[0, string, true]),false), [plan_id=446]\n",
      "\n",
      "(20) BroadcastHashJoin\n",
      "Left keys [1]: [lei#970]\n",
      "Right keys [1]: [lei_2020#953]\n",
      "Join condition: None\n",
      "\n",
      "(21) Project\n",
      "Output: []\n",
      "Input [2]: [lei#970, lei_2020#953]\n",
      "\n",
      "(22) HashAggregate\n",
      "Input: []\n",
      "Keys: []\n",
      "Functions [1]: [partial_count(1)]\n",
      "Aggregate Attributes [1]: [count#1069L]\n",
      "Results [1]: [count#1070L]\n",
      "\n",
      "(23) Exchange\n",
      "Input [1]: [count#1070L]\n",
      "Arguments: SinglePartition, ENSURE_REQUIREMENTS, [plan_id=451]\n",
      "\n",
      "(24) HashAggregate\n",
      "Input [1]: [count#1070L]\n",
      "Keys: []\n",
      "Functions [1]: [count(1)]\n",
      "Aggregate Attributes [1]: [count(1)#968L]\n",
      "Results [1]: [count(1)#968L AS Number of Chase Loan Applications#967L]\n",
      "\n",
      "(25) AdaptiveSparkPlan\n",
      "Output [1]: [Number of Chase Loan Applications#967L]\n",
      "Arguments: isFinalPlan=true\n",
      "\n",
      "\n"
     ]
    }
   ],
   "source": [
    "results.explain(\"formatted\")"
   ]
  },
  {
   "cell_type": "markdown",
   "id": "24a7db68-86b7-4fe1-9351-542f6c20198f",
   "metadata": {},
   "source": [
    "### which table is sent to every executor via a BroadcastExchange operation?\n",
    "lei_2020 is sent to every executor via a BroadcastExchange operation"
   ]
  },
  {
   "cell_type": "markdown",
   "id": "47e65130-c912-463d-ba15-5b37c641bf47",
   "metadata": {},
   "source": [
    "### on which tables is \"is not null\" filtering added by the optimizer?\n",
    "\"is not null\" filtering is applied to both the loans and banks tables as an INNER JOIN was executed"
   ]
  },
  {
   "cell_type": "markdown",
   "id": "a87d0f18-62f8-48a0-97c4-1ed5c0d69f5f",
   "metadata": {},
   "source": [
    "### does the plan involve HashAggregates (depending on how you write the query, it may or may not)? If so, which ones?\n",
    "HashAggregates are involved in the plan. The HashAggregates compute 2 partial counts and 2 normal counts."
   ]
  },
  {
   "cell_type": "markdown",
   "id": "00bec109-b387-47a2-82bb-b06b0abf2be2",
   "metadata": {},
   "source": [
    "## Q5: what are the top 10 biggest loans (in terms of loan_amount) that were approved by your favorite bank?"
   ]
  },
  {
   "cell_type": "code",
   "execution_count": 11,
   "id": "def88663-fe52-4d16-b77c-5afca591ff0b",
   "metadata": {},
   "outputs": [
    {
     "name": "stderr",
     "output_type": "stream",
     "text": [
      "                                                                                \r"
     ]
    },
    {
     "data": {
      "text/html": [
       "<div>\n",
       "<style scoped>\n",
       "    .dataframe tbody tr th:only-of-type {\n",
       "        vertical-align: middle;\n",
       "    }\n",
       "\n",
       "    .dataframe tbody tr th {\n",
       "        vertical-align: top;\n",
       "    }\n",
       "\n",
       "    .dataframe thead th {\n",
       "        text-align: right;\n",
       "    }\n",
       "</style>\n",
       "<table border=\"1\" class=\"dataframe\">\n",
       "  <thead>\n",
       "    <tr style=\"text-align: right;\">\n",
       "      <th></th>\n",
       "      <th>census_tract</th>\n",
       "      <th>county</th>\n",
       "      <th>loan_purpose</th>\n",
       "      <th>derived_dwelling_category</th>\n",
       "      <th>thousands</th>\n",
       "      <th>interest_rate</th>\n",
       "      <th>years</th>\n",
       "      <th>action_taken</th>\n",
       "    </tr>\n",
       "  </thead>\n",
       "  <tbody>\n",
       "    <tr>\n",
       "      <th>0</th>\n",
       "      <td>55133203500</td>\n",
       "      <td>Waukesha</td>\n",
       "      <td>None</td>\n",
       "      <td>Single Family (1-4 Units):Site-Built</td>\n",
       "      <td>12915.0</td>\n",
       "      <td>2.75</td>\n",
       "      <td>30.0</td>\n",
       "      <td>Loan originated</td>\n",
       "    </tr>\n",
       "    <tr>\n",
       "      <th>1</th>\n",
       "      <td>55059000100</td>\n",
       "      <td>Kenosha</td>\n",
       "      <td>None</td>\n",
       "      <td>Multifamily:Site-Built</td>\n",
       "      <td>4975.0</td>\n",
       "      <td>3.38</td>\n",
       "      <td>30.0</td>\n",
       "      <td>Loan originated</td>\n",
       "    </tr>\n",
       "    <tr>\n",
       "      <th>2</th>\n",
       "      <td>55079012800</td>\n",
       "      <td>Milwaukee</td>\n",
       "      <td>None</td>\n",
       "      <td>Multifamily:Site-Built</td>\n",
       "      <td>4605.0</td>\n",
       "      <td>3.36</td>\n",
       "      <td>30.0</td>\n",
       "      <td>Loan originated</td>\n",
       "    </tr>\n",
       "    <tr>\n",
       "      <th>3</th>\n",
       "      <td>55127001602</td>\n",
       "      <td>Walworth</td>\n",
       "      <td>None</td>\n",
       "      <td>Single Family (1-4 Units):Site-Built</td>\n",
       "      <td>4555.0</td>\n",
       "      <td>2.75</td>\n",
       "      <td>30.0</td>\n",
       "      <td>Loan originated</td>\n",
       "    </tr>\n",
       "    <tr>\n",
       "      <th>4</th>\n",
       "      <td>55079185400</td>\n",
       "      <td>Milwaukee</td>\n",
       "      <td>None</td>\n",
       "      <td>Multifamily:Site-Built</td>\n",
       "      <td>3625.0</td>\n",
       "      <td>4.94</td>\n",
       "      <td>20.5</td>\n",
       "      <td>Loan originated</td>\n",
       "    </tr>\n",
       "    <tr>\n",
       "      <th>5</th>\n",
       "      <td>55127001602</td>\n",
       "      <td>Walworth</td>\n",
       "      <td>Home purchase</td>\n",
       "      <td>Single Family (1-4 Units):Site-Built</td>\n",
       "      <td>3535.0</td>\n",
       "      <td>2.875</td>\n",
       "      <td>30.0</td>\n",
       "      <td>Loan originated</td>\n",
       "    </tr>\n",
       "    <tr>\n",
       "      <th>6</th>\n",
       "      <td>55133204100</td>\n",
       "      <td>Waukesha</td>\n",
       "      <td>None</td>\n",
       "      <td>Single Family (1-4 Units):Site-Built</td>\n",
       "      <td>3305.0</td>\n",
       "      <td>2.625</td>\n",
       "      <td>30.0</td>\n",
       "      <td>Loan originated</td>\n",
       "    </tr>\n",
       "    <tr>\n",
       "      <th>7</th>\n",
       "      <td>55079019400</td>\n",
       "      <td>Milwaukee</td>\n",
       "      <td>None</td>\n",
       "      <td>Multifamily:Site-Built</td>\n",
       "      <td>3105.0</td>\n",
       "      <td>3.48</td>\n",
       "      <td>25.0</td>\n",
       "      <td>Loan originated</td>\n",
       "    </tr>\n",
       "    <tr>\n",
       "      <th>8</th>\n",
       "      <td>55127001602</td>\n",
       "      <td>Walworth</td>\n",
       "      <td>None</td>\n",
       "      <td>Single Family (1-4 Units):Site-Built</td>\n",
       "      <td>3005.0</td>\n",
       "      <td>3.125</td>\n",
       "      <td>30.0</td>\n",
       "      <td>Loan originated</td>\n",
       "    </tr>\n",
       "    <tr>\n",
       "      <th>9</th>\n",
       "      <td>55133203500</td>\n",
       "      <td>Waukesha</td>\n",
       "      <td>Home purchase</td>\n",
       "      <td>Single Family (1-4 Units):Site-Built</td>\n",
       "      <td>3005.0</td>\n",
       "      <td>2.25</td>\n",
       "      <td>30.0</td>\n",
       "      <td>Loan originated</td>\n",
       "    </tr>\n",
       "  </tbody>\n",
       "</table>\n",
       "</div>"
      ],
      "text/plain": [
       "  census_tract     county   loan_purpose  \\\n",
       "0  55133203500   Waukesha           None   \n",
       "1  55059000100    Kenosha           None   \n",
       "2  55079012800  Milwaukee           None   \n",
       "3  55127001602   Walworth           None   \n",
       "4  55079185400  Milwaukee           None   \n",
       "5  55127001602   Walworth  Home purchase   \n",
       "6  55133204100   Waukesha           None   \n",
       "7  55079019400  Milwaukee           None   \n",
       "8  55127001602   Walworth           None   \n",
       "9  55133203500   Waukesha  Home purchase   \n",
       "\n",
       "              derived_dwelling_category  thousands interest_rate  years  \\\n",
       "0  Single Family (1-4 Units):Site-Built    12915.0          2.75   30.0   \n",
       "1                Multifamily:Site-Built     4975.0          3.38   30.0   \n",
       "2                Multifamily:Site-Built     4605.0          3.36   30.0   \n",
       "3  Single Family (1-4 Units):Site-Built     4555.0          2.75   30.0   \n",
       "4                Multifamily:Site-Built     3625.0          4.94   20.5   \n",
       "5  Single Family (1-4 Units):Site-Built     3535.0         2.875   30.0   \n",
       "6  Single Family (1-4 Units):Site-Built     3305.0         2.625   30.0   \n",
       "7                Multifamily:Site-Built     3105.0          3.48   25.0   \n",
       "8  Single Family (1-4 Units):Site-Built     3005.0         3.125   30.0   \n",
       "9  Single Family (1-4 Units):Site-Built     3005.0          2.25   30.0   \n",
       "\n",
       "      action_taken  \n",
       "0  Loan originated  \n",
       "1  Loan originated  \n",
       "2  Loan originated  \n",
       "3  Loan originated  \n",
       "4  Loan originated  \n",
       "5  Loan originated  \n",
       "6  Loan originated  \n",
       "7  Loan originated  \n",
       "8  Loan originated  \n",
       "9  Loan originated  "
      ]
     },
     "execution_count": 11,
     "metadata": {},
     "output_type": "execute_result"
    }
   ],
   "source": [
    "spark.sql(\"\"\"\n",
    "SELECT CONCAT(STATE, lpad(COUNTY, 3, \"0\")) as county_unique_id, * \n",
    "from (\n",
    "    SELECT *, row_number() OVER (PARTITION BY STATE, COUNTY, NAME ORDER BY AREA DESC) AS num\n",
    "    from counties\n",
    "    )\n",
    "WHERE num = 1\n",
    "\"\"\").createOrReplaceTempView(\"county_mod\")\n",
    "\n",
    "spark.sql(\"\"\"\n",
    "SELECT census_tract, NAME as county, loan_purpose.loan_purpose, derived_dwelling_category, loan_amount/1000 as thousands, \n",
    "interest_rate, loan_term / 12 as years, action_taken.action_taken\n",
    "from loans\n",
    "INNER JOIN banks on loans.lei = banks.lei_2020\n",
    "LEFT JOIN action_taken on loans.action_taken = action_taken.id \n",
    "LEFT JOIN county_mod on loans.county_code = county_mod.county_unique_id\n",
    "LEFT JOIN loan_purpose on loans.loan_purpose = loan_purpose.id\n",
    "WHERE respondent_name = \"JPMorgan Chase Bank, National Association\"\n",
    "AND action_taken.action_taken = \"Loan originated\"\n",
    "ORDER BY loan_amount DESC\n",
    "LIMIT 10\n",
    "\"\"\").toPandas()"
   ]
  },
  {
   "cell_type": "markdown",
   "id": "667ab573-1edf-4196-8c0c-8f37f740d8fb",
   "metadata": {},
   "source": [
    "## Q6: when computing a MEAN aggregate per group of loans, under what situation (when) do we require network I/O between the partial_mean and mean operations?"
   ]
  },
  {
   "cell_type": "code",
   "execution_count": 12,
   "id": "81cfa4d8-5b16-4a02-b22c-0ad0f1007604",
   "metadata": {},
   "outputs": [
    {
     "name": "stdout",
     "output_type": "stream",
     "text": [
      "== Physical Plan ==\n",
      "AdaptiveSparkPlan isFinalPlan=false\n",
      "+- HashAggregate(keys=[county_code#973], functions=[avg(loan_amount#990)])\n",
      "   +- HashAggregate(keys=[county_code#973], functions=[partial_avg(loan_amount#990)])\n",
      "      +- FileScan parquet default.loans[county_code#973,loan_amount#990] Batched: true, DataFilters: [], Format: Parquet, Location: InMemoryFileIndex(1 paths)[hdfs://main:9000/user/hive/warehouse/loans], PartitionFilters: [], PushedFilters: [], ReadSchema: struct<county_code:string,loan_amount:double>, SelectedBucketsCount: 8 out of 8\n",
      "\n",
      "\n"
     ]
    }
   ],
   "source": [
    "spark.sql(\"\"\"\n",
    "SELECT AVG(loan_amount)\n",
    "from loans\n",
    "GROUP BY county_code\n",
    "\"\"\").explain()"
   ]
  },
  {
   "cell_type": "code",
   "execution_count": 13,
   "id": "8f64c74a-85e3-4e07-9061-a1ee712272fb",
   "metadata": {},
   "outputs": [
    {
     "name": "stdout",
     "output_type": "stream",
     "text": [
      "== Physical Plan ==\n",
      "AdaptiveSparkPlan isFinalPlan=false\n",
      "+- HashAggregate(keys=[lei#970], functions=[avg(loan_amount#990)])\n",
      "   +- Exchange hashpartitioning(lei#970, 200), ENSURE_REQUIREMENTS, [plan_id=1141]\n",
      "      +- HashAggregate(keys=[lei#970], functions=[partial_avg(loan_amount#990)])\n",
      "         +- FileScan parquet default.loans[lei#970,loan_amount#990] Batched: true, DataFilters: [], Format: Parquet, Location: InMemoryFileIndex(1 paths)[hdfs://main:9000/user/hive/warehouse/loans], PartitionFilters: [], PushedFilters: [], ReadSchema: struct<lei:string,loan_amount:double>\n",
      "\n",
      "\n"
     ]
    }
   ],
   "source": [
    "spark.sql(\"\"\"\n",
    "SELECT AVG(loan_amount)\n",
    "from loans\n",
    "GROUP BY lei\n",
    "\"\"\").explain()"
   ]
  },
  {
   "cell_type": "markdown",
   "id": "12b53651-5dee-41a0-957b-1f5761b11976",
   "metadata": {},
   "source": [
    "When a GROUP BY on lei is executed, we can see from the output of .explain() that there is an additional line stating \"Exchange hashpartitioning(lei#1986, 200), ENSURE_REQUIREMENTS, [plan_id=1877]\". Since the dataset is not partitioned / bucketed by LEI, a network shuffle is required in the GROUP BY process. On the other hand, since the dataset is bucketed on county_code, a network I/O shuffle does not occur when we perform a GROUP BY on county_code.\n",
    "\n",
    "The network I/O is required when the GROUP BY acts on a non-bucketed column, such as LEI, because different machines/partitions may contain the same value within that column."
   ]
  },
  {
   "cell_type": "markdown",
   "id": "0931cb91-a2fa-4fbb-a969-e6a5d8c16b7f",
   "metadata": {},
   "source": [
    "## Q7: what are the average interest rates for Wells Fargo applications for the ten counties where Wells Fargo receives the most applications?"
   ]
  },
  {
   "cell_type": "code",
   "execution_count": 14,
   "id": "44ad616a-5609-40e2-a90a-965d9805a2a9",
   "metadata": {},
   "outputs": [
    {
     "name": "stderr",
     "output_type": "stream",
     "text": [
      "                                                                                \r"
     ]
    }
   ],
   "source": [
    "df = spark.sql(\"\"\"\n",
    "SELECT NAME as County, AVG(interest_rate) as `InterestRate`, COUNT(*) as `NumApplications`\n",
    "from loans\n",
    "INNER JOIN banks on banks.lei_2020 = loans.lei\n",
    "LEFT JOIN county_mod on loans.county_code = county_mod.county_unique_id\n",
    "WHERE respondent_name LIKE \"%Wells Fargo Bank, National Association%\"\n",
    "GROUP BY NAME\n",
    "ORDER BY COUNT(*) DESC\n",
    "LIMIT 10\n",
    "\"\"\").toPandas()"
   ]
  },
  {
   "cell_type": "code",
   "execution_count": 15,
   "id": "700abc88-f490-44ed-9438-5dcd791e254e",
   "metadata": {},
   "outputs": [
    {
     "data": {
      "text/plain": [
       "Text(0, 0.5, 'Average Interest Rate')"
      ]
     },
     "execution_count": 15,
     "metadata": {},
     "output_type": "execute_result"
    },
    {
     "data": {
      "image/png": "[encoded data removed]",
      "text/plain": [
       "<Figure size 640x480 with 1 Axes>"
      ]
     },
     "metadata": {},
     "output_type": "display_data"
    }
   ],
   "source": [
    "fig, ax = plt.subplots()\n",
    "df.plot.bar(x=\"County\", y=\"InterestRate\", ax=ax)\n",
    "ax.legend().remove()\n",
    "ax.set_ylabel(\"Average Interest Rate\", size=12)"
   ]
  },
  {
   "cell_type": "markdown",
   "id": "d2e7f22a-300e-45f3-aa76-ed6a0bb5b35f",
   "metadata": {},
   "source": [
    "## Q8: what is the second biggest loan application amount in each county? (answer for top 10 counties)."
   ]
  },
  {
   "cell_type": "code",
   "execution_count": 16,
   "id": "60b90d8d-b793-477d-8aad-09c1af80c178",
   "metadata": {},
   "outputs": [
    {
     "name": "stderr",
     "output_type": "stream",
     "text": [
      "                                                                                \r"
     ]
    }
   ],
   "source": [
    "df_q8 = spark.sql(\"\"\"\n",
    "SELECT CountyName, loan_amount/1000000 as loan, row_number() OVER (PARTITION BY CountyName ORDER BY loan_amount DESC) AS num\n",
    "from \n",
    "    (\n",
    "        SELECT NAME as CountyName, loan_amount\n",
    "        from loans\n",
    "        LEFT JOIN county_mod on loans.county_code = county_mod.county_unique_id\n",
    "    )\n",
    "WHERE CountyName IS NOT NULL\n",
    "ORDER BY loan_amount DESC\n",
    "\"\"\").where(\"num == 2\").limit(10).toPandas()"
   ]
  },
  {
   "cell_type": "code",
   "execution_count": 17,
   "id": "090e2ccd-c7c2-49e7-a724-9b525a37216a",
   "metadata": {},
   "outputs": [
    {
     "data": {
      "text/plain": [
       "Text(0.5, 0, 'County')"
      ]
     },
     "execution_count": 17,
     "metadata": {},
     "output_type": "execute_result"
    },
    {
     "data": {
      "image/png": "[encoded data removed]",
      "text/plain": [
       "<Figure size 640x480 with 1 Axes>"
      ]
     },
     "metadata": {},
     "output_type": "display_data"
    }
   ],
   "source": [
    "fig, ax = plt.subplots()\n",
    "df_q8.plot.bar(x=\"CountyName\", y=\"loan\", ax=ax)\n",
    "ax.legend().remove()\n",
    "ax.set_ylabel(\"2nd Biggest Loan Application (Million $)\", size=10)\n",
    "ax.set_xlabel(\"County\", size=10)"
   ]
  },
  {
   "cell_type": "markdown",
   "id": "d1ef9daa-0e3e-42c2-a00e-f2eca616ab81",
   "metadata": {},
   "source": [
    "## Q9: what is the cost of caching and the impact on subsequent queries?"
   ]
  },
  {
   "cell_type": "code",
   "execution_count": 18,
   "id": "c9eda7ad-9727-4c13-a7e5-6b866a613b39",
   "metadata": {},
   "outputs": [
    {
     "name": "stderr",
     "output_type": "stream",
     "text": [
      "                                                                                \r"
     ]
    }
   ],
   "source": [
    "df = spark.sql(\"\"\"\n",
    "    SELECT interest_rate\n",
    "    FROM banks\n",
    "    INNER JOIN loans\n",
    "    ON banks.lei_2020 = loans.lei \n",
    "    WHERE banks.respondent_name = 'Wells Fargo Bank, National Association'\n",
    "    \"\"\")\n",
    "times = []\n",
    "df.unpersist()\n",
    "for i in range(10):\n",
    "    if i == 4:\n",
    "        df.cache()\n",
    "    start = time.time()\n",
    "    df.count()\n",
    "    times.append((time.time() - start)*1000)"
   ]
  },
  {
   "cell_type": "code",
   "execution_count": 19,
   "id": "be554990-216d-4528-bf7e-893a5ece0895",
   "metadata": {},
   "outputs": [
    {
     "data": {
      "text/plain": [
       "Text(0, 0.5, 'Run Time (Milliseconds)')"
      ]
     },
     "execution_count": 19,
     "metadata": {},
     "output_type": "execute_result"
    },
    {
     "data": {
      "image/png": "[encoded data removed]",
      "text/plain": [
       "<Figure size 640x480 with 1 Axes>"
      ]
     },
     "metadata": {},
     "output_type": "display_data"
    }
   ],
   "source": [
    "fig, ax = plt.subplots()\n",
    "ax.plot(range(4), times[:4], c='black', label='No Caching')\n",
    "ax.plot(range(4,10), times[4:10], c='orange', label='Caching')\n",
    "ax.legend()\n",
    "ax.set_xlabel(\"Query Number\")\n",
    "ax.set_ylabel(\"Run Time (Milliseconds)\")"
   ]
  },
  {
   "cell_type": "markdown",
   "id": "02c52176-c85b-4e4b-b0d4-16b16f28b83b",
   "metadata": {},
   "source": [
    "## Q10: what is the impact of caching a single partition on load balance?"
   ]
  },
  {
   "cell_type": "code",
   "execution_count": 20,
   "id": "9a273d4c-9750-4e9c-815c-cebf862b0c95",
   "metadata": {},
   "outputs": [
    {
     "name": "stderr",
     "output_type": "stream",
     "text": [
      "                                                                                \r"
     ]
    }
   ],
   "source": [
    "r = requests.get(\"http://localhost:4040/api/v1/applications\")\n",
    "r.raise_for_status()\n",
    "appID = r.json()[0]['id']\n",
    "\n",
    "df2 = df.repartition(1)\n",
    "df2.cache()\n",
    "\n",
    "worker_1 = []\n",
    "worker_2 = [] \n",
    "for i in range(10):\n",
    "    df2.count()\n",
    "    r2 = requests.get(\"http://localhost:4040/api/v1/applications/{}/executors\".format(appID))\n",
    "    w1 = r2.json()[1]['completedTasks']\n",
    "    w2 = r2.json()[2]['completedTasks']\n",
    "    worker_1.append(w1)\n",
    "    worker_2.append(w2)"
   ]
  },
  {
   "cell_type": "code",
   "execution_count": 21,
   "id": "685a7e2c-2a34-4291-9f16-a45f18ab9d92",
   "metadata": {},
   "outputs": [
    {
     "data": {
      "text/plain": [
       "Text(0, 0.5, 'Completed Tasks')"
      ]
     },
     "execution_count": 21,
     "metadata": {},
     "output_type": "execute_result"
    },
    {
     "data": {
      "image/png": "[encoded data removed]",
      "text/plain": [
       "<Figure size 640x480 with 1 Axes>"
      ]
     },
     "metadata": {},
     "output_type": "display_data"
    }
   ],
   "source": [
    "fig, ax = plt.subplots()\n",
    "ax.plot(range(10), worker_1, c='black', label='Worker 1')\n",
    "ax.plot(range(10), worker_2, c='orange', label='Worker 2')\n",
    "ax.legend()\n",
    "ax.set_xlabel(\"Query Number\")\n",
    "ax.set_ylabel(\"Completed Tasks\")"
   ]
  }
 ],
 "metadata": {
  "kernelspec": {
   "display_name": "Python 3 (ipykernel)",
   "language": "python",
   "name": "python3"
  },
  "language_info": {
   "codemirror_mode": {
    "name": "ipython",
    "version": 3
   },
   "file_extension": ".py",
   "mimetype": "text/x-python",
   "name": "python",
   "nbconvert_exporter": "python",
   "pygments_lexer": "ipython3",
   "version": "3.10.6"
  }
 },
 "nbformat": 4,
 "nbformat_minor": 5
}
